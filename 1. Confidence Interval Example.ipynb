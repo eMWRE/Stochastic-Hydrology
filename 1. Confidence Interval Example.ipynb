{
 "cells": [
  {
   "cell_type": "markdown",
   "source": [
    "In this example, we stablish a 90% confidence interval for the true population mean height of a species of flower, using a sample of 17 plants.\r\n",
    "\r\n",
    "The data is contained on path \"data/flower_heights.txt\"\r\n",
    "\r\n",
    "First we import modules to be used"
   ],
   "metadata": {}
  },
  {
   "cell_type": "code",
   "execution_count": 1,
   "source": [
    "import numpy as np\r\n",
    "import scipy.stats as st"
   ],
   "outputs": [],
   "metadata": {}
  },
  {
   "cell_type": "markdown",
   "source": [
    "Then we load the data into a list. "
   ],
   "metadata": {}
  },
  {
   "cell_type": "code",
   "execution_count": 2,
   "source": [
    "# opening the file\r\n",
    "\r\n",
    "g = open(\"data/flower_heights.txt\", 'r')\r\n",
    "file_content = g.readlines()\r\n",
    "g.close()                               # remember to close file object\r\n",
    "\r\n",
    "\r\n",
    "# load into a list\r\n",
    "\r\n",
    "sample_values = [float(value.strip()) for value in file_content]\r\n",
    "\r\n",
    "print(sample_values)"
   ],
   "outputs": [
    {
     "output_type": "stream",
     "name": "stdout",
     "text": [
      "[12.0, 12.0, 13.0, 13.0, 15.0, 16.0, 17.0, 22.0, 23.0, 25.0, 26.0, 27.0, 28.0, 28.0, 29.0, 15.0, 21.0, 16.0]\n"
     ]
    }
   ],
   "metadata": {}
  },
  {
   "cell_type": "markdown",
   "source": [
    "Now we can use the imported module 'scipy.stats' to calculate the confidence interval."
   ],
   "metadata": {}
  },
  {
   "cell_type": "code",
   "execution_count": 3,
   "source": [
    "st.t.interval(alpha=0.90, df=len(sample_values)-1, loc=np.mean(sample_values), scale=st.sem(sample_values)) \r\n"
   ],
   "outputs": [
    {
     "output_type": "execute_result",
     "data": {
      "text/plain": [
       "(17.353919074955662, 22.423858702822116)"
      ]
     },
     "metadata": {},
     "execution_count": 3
    }
   ],
   "metadata": {}
  }
 ],
 "metadata": {
  "orig_nbformat": 4,
  "language_info": {
   "name": "python",
   "version": "3.9.4",
   "mimetype": "text/x-python",
   "codemirror_mode": {
    "name": "ipython",
    "version": 3
   },
   "pygments_lexer": "ipython3",
   "nbconvert_exporter": "python",
   "file_extension": ".py"
  },
  "kernelspec": {
   "name": "python3",
   "display_name": "Python 3.9.4 64-bit"
  },
  "interpreter": {
   "hash": "c6c475673b5daa9c4a3407d9bccbcbe8eeb1ff9ce8f12ee6ebb0b47aaba82cf4"
  }
 },
 "nbformat": 4,
 "nbformat_minor": 2
}