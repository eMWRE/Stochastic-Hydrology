{
 "cells": [
  {
   "cell_type": "markdown",
   "metadata": {},
   "source": [
    "This script shows how you can check goodness of fit.\n",
    "\n",
    "First, you will need to import a few modules."
   ]
  },
  {
   "cell_type": "code",
   "execution_count": 12,
   "metadata": {},
   "outputs": [],
   "source": [
    "import os\n",
    "import numpy as np\n",
    "import pandas as pd\n",
    "from scipy import stats\n",
    "from fitter import Fitter\n",
    "from fitter import get_distributions\n",
    "from fitter import get_common_distributions\n",
    "from statsmodels.stats.diagnostic import anderson_statistic as adtest\n",
    "\n",
    "from scipy.stats import genextreme\n",
    "from scipy.stats import genlogistic\n",
    "from scipy.stats import pearson3\n",
    "\n",
    "import statistics\n",
    "import math"
   ]
  },
  {
   "cell_type": "markdown",
   "metadata": {},
   "source": [
    "Read the data into a pandas dataframe"
   ]
  },
  {
   "cell_type": "code",
   "execution_count": 13,
   "metadata": {},
   "outputs": [],
   "source": [
    "data = pd.read_csv('data/Flow.csv')\n"
   ]
  },
  {
   "cell_type": "markdown",
   "metadata": {},
   "source": [
    "list dataframe columns and list of distributions to assess goodness of fit for"
   ]
  },
  {
   "cell_type": "code",
   "execution_count": 14,
   "metadata": {},
   "outputs": [],
   "source": [
    "col_names = data.columns\n",
    "list_of_dists = [\"genextreme\", \"genlogistic\", \"pearson3\"]\n"
   ]
  },
  {
   "cell_type": "markdown",
   "metadata": {},
   "source": [
    "Then check statistics for each distribution"
   ]
  },
  {
   "cell_type": "code",
   "execution_count": 15,
   "metadata": {},
   "outputs": [],
   "source": [
    " \n",
    "result_ks = []\n",
    "result_ad = []   \n",
    "for j in list_of_dists:\n",
    "    dist = getattr(stats, j)\n",
    "    param = dist.fit(data.loc[:,col_names[1]])\n",
    "    a = stats.kstest(data.loc[:,col_names[1]],j, args=param) # KS test\n",
    "    c = adtest(x=data.loc[:,col_names[1]],dist=dist,fit=False,params=param) # Anderson Darling test\n",
    "    result_ks.append((j,a[0]))\n",
    "    result_ad.append((j,c))"
   ]
  },
  {
   "cell_type": "markdown",
   "metadata": {},
   "source": [
    "now generating  critical values for each distribution function\n",
    "\n",
    "for GEV (this is to calculate the critical value which you have to compare it with to accept or reject the null hypothesis)\n",
    "\n",
    "Usually 100,000 of iteration is required but for this case let's assume 1000 iteratio are sufficient"
   ]
  },
  {
   "cell_type": "code",
   "execution_count": 16,
   "metadata": {},
   "outputs": [],
   "source": [
    "\n",
    "n_mc= 1000\n",
    "KS_gev=[]\n",
    "AD_gev=[]\n",
    "n= len(data.loc[:,col_names[1]])\n",
    "for i in range(0,n_mc):\n",
    "    a= -0.1\n",
    "    x_1= genextreme.rvs(a,size=n)\n",
    "    dist = getattr(stats, \"genextreme\")\n",
    "    param = dist.fit(x_1)\n",
    "    a= stats.kstest(x_1, \"genextreme\",args=param)\n",
    "    Ks_v= a[0]\n",
    "    KS_gev.append(Ks_v)\n",
    "    b= adtest(x=x_1,dist=genextreme,fit=False,params=param)\n",
    "    AD_gev.append(b)\n",
    "    \n",
    "critical_v95_gev_ks = np.percentile(KS_gev,95)\n",
    "critical_v95_gev_ad = np.percentile(AD_gev,95)\n"
   ]
  },
  {
   "cell_type": "markdown",
   "metadata": {},
   "source": [
    "Repeat for Genlog"
   ]
  },
  {
   "cell_type": "code",
   "execution_count": 17,
   "metadata": {},
   "outputs": [],
   "source": [
    "\n",
    "n_mc= 1000\n",
    "KS_genlog=[]\n",
    "AD_genlog=[]\n",
    "n=len(data.loc[:,col_names[1]])\n",
    "for i in range(0,n_mc):\n",
    "    a= 0.1\n",
    "    x_1= genlogistic.rvs(a,size=n)\n",
    "    dist = getattr(stats, \"genlogistic\")\n",
    "    param = dist.fit(x_1)\n",
    "    a= stats.kstest(x_1, \"genlogistic\",args=param)\n",
    "    Ks_v= a[0]\n",
    "    KS_genlog.append(Ks_v)\n",
    "    b= adtest(x_1,dist=genlogistic,fit=False,params=param)\n",
    "    AD_genlog.append(b)\n",
    "    \n",
    "critical_v95_glo_ks = np.percentile(KS_genlog,95)\n",
    "critical_v95_glo_ad = np.percentile(AD_genlog,95)"
   ]
  },
  {
   "cell_type": "markdown",
   "metadata": {},
   "source": [
    "Repeat for or pe3"
   ]
  },
  {
   "cell_type": "code",
   "execution_count": 18,
   "metadata": {},
   "outputs": [],
   "source": [
    "\n",
    "n_mc= 1000\n",
    "KS_pe3=[]\n",
    "AD_pe3=[]\n",
    "n=len(data.loc[:,col_names[1]])\n",
    "for i in range(0,n_mc):\n",
    "    skew=0.1\n",
    "    x_1= pearson3.rvs(skew,size=n)\n",
    "    dist = getattr(stats, \"pearson3\")\n",
    "    param = dist.fit(x_1)\n",
    "    a= stats.kstest(x_1, \"pearson3\",args=param)\n",
    "    Ks_v= a[0]\n",
    "    KS_pe3.append(Ks_v)\n",
    "    b= adtest(x_1,dist=pearson3,fit=False,params=param)\n",
    "    AD_pe3.append(b)\n",
    "    \n",
    "critical_v95_pe3_ks = np.percentile(KS_pe3,95)\n",
    "critical_v95_pe3_ad = np.percentile(AD_pe3,95)"
   ]
  },
  {
   "cell_type": "markdown",
   "metadata": {},
   "source": [
    "The critical values are also available\n",
    "\n",
    "If the user want to check using Kolmogorov–Smirnov goodness of fit test."
   ]
  },
  {
   "cell_type": "code",
   "execution_count": 19,
   "metadata": {},
   "outputs": [
    {
     "name": "stdout",
     "output_type": "stream",
     "text": [
      "The data fits genextreme distribution\n",
      "The data fits genlogistic distribution\n",
      "The data does not fit pearson3 distribution\n"
     ]
    }
   ],
   "source": [
    "\n",
    "method = \"KS\"\n",
    "\n",
    "if method == \"KS\":\n",
    "        if result_ks[0][1] < critical_v95_gev_ks:\n",
    "            print (\"The data fits %s distribution\"%(list_of_dists[0]))\n",
    "        else:\n",
    "            print (\"The data does not fit %s distribution\"%(list_of_dists[0]))\n",
    "            \n",
    "        if result_ks[1][1] < critical_v95_glo_ks:\n",
    "            print (\"The data fits %s distribution\"%(list_of_dists[1]))\n",
    "        else:\n",
    "            print (\"The data does not fit %s distribution\"%(list_of_dists[1]))\n",
    "            \n",
    "        if result_ks[2][1] < critical_v95_pe3_ks:\n",
    "            print (\"The data fits %s distribution\"%(list_of_dists[2]))\n",
    "        else:\n",
    "            print (\"The data does not fit %s distribution\"%(list_of_dists[2]))\n",
    "          \n",
    "    "
   ]
  },
  {
   "cell_type": "markdown",
   "metadata": {},
   "source": [
    "If the user want to check using Anderson darling goodness of fit test"
   ]
  },
  {
   "cell_type": "code",
   "execution_count": 20,
   "metadata": {},
   "outputs": [
    {
     "name": "stdout",
     "output_type": "stream",
     "text": [
      "The data fits genextreme distribution\n",
      "The data fits genlogistic distribution\n",
      "The data fits pearson3 distribution\n"
     ]
    }
   ],
   "source": [
    "method = \"AD\"\n",
    "\n",
    "if method == \"AD\":\n",
    "        if result_ks[0][1] < critical_v95_gev_ad:\n",
    "            print (\"The data fits %s distribution\"%(list_of_dists[0]))\n",
    "        else:\n",
    "            print (\"The data does not fit %s distribution\"%(list_of_dists[0]))\n",
    "            \n",
    "        if result_ks[1][1] < critical_v95_glo_ad:\n",
    "            print (\"The data fits %s distribution\"%(list_of_dists[1]))\n",
    "        else:\n",
    "            print (\"The data does not fit %s distribution\"%(list_of_dists[1]))\n",
    "            \n",
    "        if result_ks[2][1] < critical_v95_pe3_ad:\n",
    "            print (\"The data fits %s distribution\"%(list_of_dists[2]))\n",
    "        else:\n",
    "            print (\"The data does not fit %s distribution\"%(list_of_dists[2]))\n",
    "    "
   ]
  }
 ],
 "metadata": {
  "interpreter": {
   "hash": "120d6fb188534550546bd5d2b32e59b0f2133a2e3123f35e3dcc4e7dd16d7502"
  },
  "kernelspec": {
   "display_name": "Python 3.10.0 64-bit",
   "language": "python",
   "name": "python3"
  },
  "language_info": {
   "codemirror_mode": {
    "name": "ipython",
    "version": 3
   },
   "file_extension": ".py",
   "mimetype": "text/x-python",
   "name": "python",
   "nbconvert_exporter": "python",
   "pygments_lexer": "ipython3",
   "version": "3.10.0"
  },
  "orig_nbformat": 4
 },
 "nbformat": 4,
 "nbformat_minor": 2
}
